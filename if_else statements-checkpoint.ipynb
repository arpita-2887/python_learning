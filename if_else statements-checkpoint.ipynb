{
 "cells": [
  {
   "cell_type": "code",
   "execution_count": 1,
   "metadata": {},
   "outputs": [
    {
     "name": "stdout",
     "output_type": "stream",
     "text": [
      "grater\n"
     ]
    }
   ],
   "source": [
    "if 5 > 3 :\n",
    "    print(\"grater\")"
   ]
  },
  {
   "cell_type": "code",
   "execution_count": 2,
   "metadata": {},
   "outputs": [
    {
     "name": "stdout",
     "output_type": "stream",
     "text": [
      "b is divisible by a\n"
     ]
    }
   ],
   "source": [
    "a=4\n",
    "b=80\n",
    "if b%4 ==0 :\n",
    "    print (\"b is divisible by a\")"
   ]
  },
  {
   "cell_type": "code",
   "execution_count": null,
   "metadata": {},
   "outputs": [],
   "source": []
  },
  {
   "cell_type": "code",
   "execution_count": 4,
   "metadata": {},
   "outputs": [
    {
     "name": "stdout",
     "output_type": "stream",
     "text": [
      " a is divisible by b 96 12\n"
     ]
    }
   ],
   "source": [
    "a=96\n",
    "b=12\n",
    "if a%b ==0 :\n",
    "    print (\" a is divisible by b\",a,b)"
   ]
  },
  {
   "cell_type": "code",
   "execution_count": null,
   "metadata": {},
   "outputs": [],
   "source": []
  },
  {
   "cell_type": "code",
   "execution_count": 6,
   "metadata": {},
   "outputs": [
    {
     "name": "stdout",
     "output_type": "stream",
     "text": [
      "number is not divisible\n"
     ]
    }
   ],
   "source": [
    "if 5%3 !=0 :\n",
    "    print (\"number is not divisible\")"
   ]
  },
  {
   "cell_type": "code",
   "execution_count": 7,
   "metadata": {},
   "outputs": [
    {
     "name": "stdout",
     "output_type": "stream",
     "text": [
      "a is a prime number\n"
     ]
    }
   ],
   "source": [
    "a=13\n",
    "if a%2 == 1 :\n",
    "    print (\"a is a prime number\")"
   ]
  },
  {
   "cell_type": "code",
   "execution_count": 2,
   "metadata": {},
   "outputs": [
    {
     "name": "stdout",
     "output_type": "stream",
     "text": [
      "number is not prime number\n"
     ]
    }
   ],
   "source": [
    "a=8 \n",
    "if a%2 == 1 :\n",
    "    print(\"number is a prime number\")\n",
    "else :\n",
    "    print (\"number is not prime number\")"
   ]
  },
  {
   "cell_type": "code",
   "execution_count": 9,
   "metadata": {},
   "outputs": [
    {
     "name": "stdout",
     "output_type": "stream",
     "text": [
      "grater\n"
     ]
    }
   ],
   "source": [
    "if 90 < 897 :\n",
    "    print(\"grater\")\n",
    "else :\n",
    "    print(\"smaller\")"
   ]
  },
  {
   "cell_type": "code",
   "execution_count": 10,
   "metadata": {},
   "outputs": [
    {
     "name": "stdout",
     "output_type": "stream",
     "text": [
      "greater\n"
     ]
    }
   ],
   "source": [
    "a=90\n",
    "b=897\n",
    "if a<b :\n",
    "    print(\"greater\")\n",
    "else :\n",
    "    print(\"smaller\")"
   ]
  },
  {
   "cell_type": "code",
   "execution_count": 11,
   "metadata": {},
   "outputs": [
    {
     "name": "stdout",
     "output_type": "stream",
     "text": [
      "a is smaller than b\n"
     ]
    }
   ],
   "source": [
    "a=90\n",
    "b=897\n",
    "if a > b :\n",
    "    print(\"a is grater than b\")\n",
    "else :\n",
    "    print (\"a is smaller than b\")"
   ]
  },
  {
   "cell_type": "code",
   "execution_count": 9,
   "metadata": {},
   "outputs": [
    {
     "name": "stdout",
     "output_type": "stream",
     "text": [
      "you are allowed to enter\n"
     ]
    }
   ],
   "source": [
    "colour = 'black'\n",
    "if colour == 'black' :\n",
    "    print(\"you are allowed to enter\")\n",
    "else :\n",
    "    print(\"you are not allowed\")\n",
    "\n"
   ]
  },
  {
   "cell_type": "code",
   "execution_count": 13,
   "metadata": {},
   "outputs": [
    {
     "name": "stdout",
     "output_type": "stream",
     "text": [
      "a is smaller than b\n"
     ]
    }
   ],
   "source": [
    "a=25\n",
    "b=50\n",
    "if a> b :\n",
    "    print (\"a is greater than b\")\n",
    "elif a ==b :\n",
    "    print (\"a and b are equal\")\n",
    "elif a < b :\n",
    "    print (\"a is smaller than b\")\n",
    "else :\n",
    "    print (\"not determined\")"
   ]
  },
  {
   "cell_type": "code",
   "execution_count": null,
   "metadata": {},
   "outputs": [],
   "source": []
  },
  {
   "cell_type": "code",
   "execution_count": 6,
   "metadata": {},
   "outputs": [
    {
     "name": "stdout",
     "output_type": "stream",
     "text": [
      "string is enterd\n"
     ]
    }
   ],
   "source": [
    "mystring = ('one')\n",
    "if mystring == 'one' :\n",
    "    print (\"string is enterd\")\n",
    "else :\n",
    "    print (\"string is not entered\")"
   ]
  },
  {
   "cell_type": "code",
   "execution_count": null,
   "metadata": {},
   "outputs": [],
   "source": []
  },
  {
   "cell_type": "code",
   "execution_count": 17,
   "metadata": {},
   "outputs": [
    {
     "name": "stdout",
     "output_type": "stream",
     "text": [
      "a is enterd\n"
     ]
    }
   ],
   "source": [
    "a = 60\n",
    "if a == 60 :\n",
    "    print (\"a is enterd\")\n",
    "else :\n",
    "    print (\"a is not enterd\")"
   ]
  },
  {
   "cell_type": "code",
   "execution_count": 18,
   "metadata": {},
   "outputs": [
    {
     "name": "stdout",
     "output_type": "stream",
     "text": [
      "a is not enterd\n"
     ]
    }
   ],
   "source": [
    "a =90 \n",
    "if a ==79 :\n",
    "    print(\"a is  enterd\")\n",
    "else :\n",
    "    print (\"a is not enterd\")"
   ]
  },
  {
   "cell_type": "code",
   "execution_count": 11,
   "metadata": {},
   "outputs": [
    {
     "name": "stdout",
     "output_type": "stream",
     "text": [
      "today is thursday\n"
     ]
    }
   ],
   "source": [
    "day = 'thursday'\n",
    "if day == 'monday':\n",
    "    print (\"today is monday\")\n",
    "elif day == 'tuesday':\n",
    "    print (\"today is tuesday\")\n",
    "elif day== 'wednesday' :\n",
    "    print (\"today is wednesday\")\n",
    "elif day =='thursday' :\n",
    "    print (\"today is thursday\")\n",
    "else :\n",
    "    print (\"holiday\")\n",
    "    "
   ]
  },
  {
   "cell_type": "code",
   "execution_count": 20,
   "metadata": {},
   "outputs": [
    {
     "name": "stdout",
     "output_type": "stream",
     "text": [
      "enter a day :tuesday\n",
      "today is tuesday\n"
     ]
    }
   ],
   "source": [
    "day = input(\"enter a day :\")\n",
    "if(day ==\"monday\"):\n",
    "    print (\"today is monday\")\n",
    "elif(day == \"tuesday\"):\n",
    "    print (\"today is tuesday\")\n",
    "elif(day== \"wednesday\") :\n",
    "    print (\"today is wednesday\")\n",
    "elif(day ==\"thursday\") :\n",
    "    print (\"today is thursday\")\n",
    "else :\n",
    "    print (\" today is holiday\")"
   ]
  },
  {
   "cell_type": "raw",
   "metadata": {},
   "source": []
  },
  {
   "cell_type": "code",
   "execution_count": 21,
   "metadata": {},
   "outputs": [
    {
     "name": "stdout",
     "output_type": "stream",
     "text": [
      "please input the year :2007\n",
      "you are in second level\n"
     ]
    }
   ],
   "source": [
    "year = input(\"please input the year :\")\n",
    "year = int(year)\n",
    "if 2000<year<=2005 :\n",
    "    print (\"you are in first level\")\n",
    "elif 2005<year<=2010 :\n",
    "    print (\"you are in second level\") \n",
    "elif 2010<year<=20015 :\n",
    "    print (\"you are in third level\") \n",
    "else :\n",
    "    print (\"you are in fourth level\")"
   ]
  },
  {
   "cell_type": "code",
   "execution_count": 22,
   "metadata": {},
   "outputs": [
    {
     "name": "stdout",
     "output_type": "stream",
     "text": [
      "please input the year :20020\n",
      "you are in fourth level\n"
     ]
    }
   ],
   "source": [
    "year = input(\"please input the year :\")\n",
    "year = int(year)\n",
    "if 2000<year<=2005 :\n",
    "    print (\"you are in first level\")\n",
    "elif 2005<year<=2010 :\n",
    "    print (\"you are in second level\") \n",
    "elif 2010<year<=20015 :\n",
    "    print (\"you are in third level\") \n",
    "else :\n",
    "    print (\"you are in fourth level\")"
   ]
  },
  {
   "cell_type": "code",
   "execution_count": 23,
   "metadata": {},
   "outputs": [
    {
     "name": "stdout",
     "output_type": "stream",
     "text": [
      "1\n",
      "2\n",
      "3\n",
      "4\n",
      "5\n",
      "6\n",
      "7\n",
      "8\n",
      "9\n"
     ]
    }
   ],
   "source": [
    "i=[1,2,3,4,5,6,7,8,9]\n",
    "for x in i :\n",
    "    print (x)"
   ]
  },
  {
   "cell_type": "code",
   "execution_count": 8,
   "metadata": {},
   "outputs": [
    {
     "name": "stdout",
     "output_type": "stream",
     "text": [
      "[1, 2, 3, 4, 5, 6, 7, 8, 9]\n",
      "[1, 2, 3, 4, 5, 6, 7, 8, 9]\n",
      "[1, 2, 3, 4, 5, 6, 7, 8, 9]\n",
      "[1, 2, 3, 4, 5, 6, 7, 8, 9]\n",
      "[1, 2, 3, 4, 5, 6, 7, 8, 9]\n",
      "[1, 2, 3, 4, 5, 6, 7, 8, 9]\n",
      "[1, 2, 3, 4, 5, 6, 7, 8, 9]\n",
      "[1, 2, 3, 4, 5, 6, 7, 8, 9]\n",
      "[1, 2, 3, 4, 5, 6, 7, 8, 9]\n"
     ]
    }
   ],
   "source": [
    "i=[1,2,3,4,5,6,7,8,9]\n",
    "for x in i :\n",
    "    print (i)\n",
    "    "
   ]
  },
  {
   "cell_type": "code",
   "execution_count": 26,
   "metadata": {},
   "outputs": [
    {
     "name": "stdout",
     "output_type": "stream",
     "text": [
      "10\n",
      "30\n",
      "60\n"
     ]
    }
   ],
   "source": [
    "x=[10,20,30]\n",
    "sum =0 \n",
    "for num in x :\n",
    "    sum = sum + num\n",
    "    print (sum)\n",
    "    "
   ]
  },
  {
   "cell_type": "code",
   "execution_count": 27,
   "metadata": {},
   "outputs": [
    {
     "name": "stdout",
     "output_type": "stream",
     "text": [
      "1\n",
      "2\n",
      "3\n",
      "4\n",
      "5\n",
      "6\n"
     ]
    }
   ],
   "source": [
    "for i in range (1,7):\n",
    "    print (i)"
   ]
  },
  {
   "cell_type": "code",
   "execution_count": 28,
   "metadata": {},
   "outputs": [
    {
     "name": "stdout",
     "output_type": "stream",
     "text": [
      "3\n",
      "9\n",
      "18\n"
     ]
    }
   ],
   "source": [
    "total = 0\n",
    "for i in range(1,10) :\n",
    "    if i % 3 == 0 :\n",
    "        total +=i\n",
    "        print(total)"
   ]
  },
  {
   "cell_type": "code",
   "execution_count": 29,
   "metadata": {},
   "outputs": [
    {
     "name": "stdout",
     "output_type": "stream",
     "text": [
      "p\n",
      "y\n",
      "t\n",
      "h\n",
      "o\n",
      "n\n"
     ]
    }
   ],
   "source": [
    "s= \"python\"\n",
    "for i in s :\n",
    "    print (i)"
   ]
  },
  {
   "cell_type": "code",
   "execution_count": null,
   "metadata": {},
   "outputs": [],
   "source": []
  }
 ],
 "metadata": {
  "kernelspec": {
   "display_name": "Python 3",
   "language": "python",
   "name": "python3"
  },
  "language_info": {
   "codemirror_mode": {
    "name": "ipython",
    "version": 3
   },
   "file_extension": ".py",
   "mimetype": "text/x-python",
   "name": "python",
   "nbconvert_exporter": "python",
   "pygments_lexer": "ipython3",
   "version": "3.8.3"
  }
 },
 "nbformat": 4,
 "nbformat_minor": 4
}
